{
 "cells": [
  {
   "cell_type": "code",
   "execution_count": 1,
   "metadata": {},
   "outputs": [],
   "source": [
    "from langchain_ollama import OllamaLLM\n",
    "from langchain_core.prompts import ChatPromptTemplate"
   ]
  },
  {
   "cell_type": "code",
   "execution_count": 2,
   "metadata": {},
   "outputs": [],
   "source": [
    "template = (\n",
    "    \"You are tasked with extracting specific information from the following text content: {dom_content}. \"\n",
    "    \"Please follow these instructions carefully: \\n\\n\"\n",
    "    \"1. **Extract Information:** Only extract the information that directly matches the provided description: {parse_description}. \"\n",
    "    \"2. **No Extra Content:** Do not include any additional text, comments, or explanations in your response. \"\n",
    "    \"3. **Empty Response:** If no information matches the description, return an empty string ('').\"\n",
    "    \"4. **Direct Data Only:** Your output should contain only the data that is explicitly requested, with no other text.\"\n",
    ")"
   ]
  },
  {
   "cell_type": "code",
   "execution_count": 3,
   "metadata": {},
   "outputs": [],
   "source": [
    "model = OllamaLLM(model=\"llama3\")"
   ]
  },
  {
   "cell_type": "code",
   "execution_count": null,
   "metadata": {},
   "outputs": [],
   "source": [
    "def scrape_website(WebsiteURL):\n",
    "    print(\"Starting the web scraping function.\")\n",
    "    driver = \"./debian-binary\"  # Initialize the driver variable\n",
    "\n",
    "    try:\n",
    "        # Attempt to use Chrome browser first\n",
    "        try:\n",
    "            print(\"Trying to initialize Chrome browser...\")\n",
    "            service = ChromeService(ChromeDriverManager().install())\n",
    "            driver = webdriver.Chrome(service=service)\n",
    "            print(\"Chrome browser successfully initialized.\")\n",
    "        except Exception as e:\n",
    "            print(\"Failed to initialize Chrome browser.\")\n",
    "            print(\"Error:\", str(e))\n",
    "            print(\"Attempting to initialize Firefox browser...\")\n",
    "\n",
    "            # Attempt to use Firefox if Chrome fails\n",
    "            try:\n",
    "                service = FirefoxService(GeckoDriverManager().install())\n",
    "                driver = webdriver.Firefox(service=service)\n",
    "                print(\"Firefox browser successfully initialized.\")\n",
    "            except Exception as e:\n",
    "                print(\"Failed to initialize Firefox browser.\")\n",
    "                print(\"Error:\", str(e))\n",
    "                traceback.print_exc()\n",
    "                raise Exception(\"No supported browser found. Please install Chrome or Firefox.\")\n",
    "\n",
    "        print('Connecting to Scraping Browser...')\n",
    "        sbr_connection = ChromiumRemoteConnection(SBR_WEBDRIVER, 'goog', 'chrome')\n",
    "        with Remote(sbr_connection, options=ChromeOptions()) as remote_driver:\n",
    "            print('Connected! Navigating...')\n",
    "            remote_driver.get(WebsiteURL)\n",
    "            print('Taking page screenshot to file page.png')\n",
    "            remote_driver.get_screenshot_as_file('./page.png')\n",
    "            print('Navigated! Scraping page content...')\n",
    "            html = remote_driver.page_source\n",
    "            print(\"Page source retrieved successfully.\")\n",
    "            return html\n",
    "\n",
    "    except Exception as e:\n",
    "        print(\"An unexpected error occurred during the scraping process.\")\n",
    "        print(\"Error:\", str(e))\n",
    "        traceback.print_exc()\n",
    "\n",
    "    finally:\n",
    "        if driver:\n",
    "            print(\"Closing the browser.\")\n",
    "            driver.quit()\n",
    "        else:\n",
    "            print(\"No browser was initialized; nothing to close.\")\n"
   ]
  },
  {
   "cell_type": "code",
   "execution_count": 3,
   "metadata": {},
   "outputs": [
    {
     "name": "stderr",
     "output_type": "stream",
     "text": [
      "/home/mahmoud/anaconda3/envs/scraper/lib/python3.9/site-packages/tqdm/auto.py:21: TqdmWarning: IProgress not found. Please update jupyter and ipywidgets. See https://ipywidgets.readthedocs.io/en/stable/user_install.html\n",
      "  from .autonotebook import tqdm as notebook_tqdm\n"
     ]
    }
   ],
   "source": [
    "from scrapegraphai.graphs import SmartScraperGraph"
   ]
  },
  {
   "cell_type": "code",
   "execution_count": 79,
   "metadata": {},
   "outputs": [],
   "source": [
    "graph_config = {\n",
    "    \"llm\": {\n",
    "        \"model\": \"ollama/mistral\",\n",
    "        \"temperature\": 0,\n",
    "        \"format\": \"json\",  # Ollama needs the format to be specified explicitly\n",
    "        \"base_url\": \"http://localhost:11434\",  # set Ollama URL\n",
    "    },\n",
    "    \"embeddings\": {\n",
    "        \"model\": \"ollama/nomic-embed-text\",\n",
    "        \"base_url\": \"http://localhost:11434\",  # set Ollama URL\n",
    "    }\n",
    "}"
   ]
  },
  {
   "cell_type": "code",
   "execution_count": 89,
   "metadata": {},
   "outputs": [],
   "source": [
    "smart_scraper_graph = SmartScraperGraph(\n",
    "    prompt=\"extract all jops titles, Job Description and Job Requirements from this wepbage\",\n",
    "    # also accepts a string with the already downloaded HTML code\n",
    "    source=f\"https://wuzzuf.net/search/jobs/?a=navbg%7Cspbg&q=Data%20Scientist\",\n",
    "    config=graph_config\n",
    ")"
   ]
  },
  {
   "cell_type": "code",
   "execution_count": 90,
   "metadata": {},
   "outputs": [],
   "source": [
    "import nest_asyncio\n",
    "nest_asyncio.apply()"
   ]
  },
  {
   "cell_type": "code",
   "execution_count": null,
   "metadata": {},
   "outputs": [],
   "source": [
    "result = smart_scraper_graph.run()\n",
    "print(result)"
   ]
  },
  {
   "cell_type": "code",
   "execution_count": 69,
   "metadata": {},
   "outputs": [],
   "source": [
    "from scrapegraphai.graphs import OmniScraperGraph\n",
    "from scrapegraphai.graphs import SmartScraperGraph\n",
    "from scrapegraphai.graphs import SearchGraph\n"
   ]
  },
  {
   "cell_type": "code",
   "execution_count": null,
   "metadata": {},
   "outputs": [],
   "source": [
    "result = omni_scraper_graph.run()\n",
    "print(result)"
   ]
  }
 ],
 "metadata": {
  "kernelspec": {
   "display_name": "scraper",
   "language": "python",
   "name": "python3"
  },
  "language_info": {
   "codemirror_mode": {
    "name": "ipython",
    "version": 3
   },
   "file_extension": ".py",
   "mimetype": "text/x-python",
   "name": "python",
   "nbconvert_exporter": "python",
   "pygments_lexer": "ipython3",
   "version": "3.9.0"
  }
 },
 "nbformat": 4,
 "nbformat_minor": 2
}
